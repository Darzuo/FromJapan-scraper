{
 "cells": [
  {
   "cell_type": "code",
   "execution_count": 17,
   "metadata": {},
   "outputs": [
    {
     "name": "stdout",
     "output_type": "stream",
     "text": [
      "Collecting pygame\n",
      "  Downloading pygame-2.5.2-cp39-cp39-win_amd64.whl (10.8 MB)\n",
      "     ---------------------------------------- 10.8/10.8 MB 2.9 MB/s eta 0:00:00\n",
      "Installing collected packages: pygame\n",
      "Successfully installed pygame-2.5.2\n",
      "Note: you may need to restart the kernel to use updated packages.\n"
     ]
    }
   ],
   "source": [
    "%pip install pygame"
   ]
  },
  {
   "cell_type": "code",
   "execution_count": 5,
   "metadata": {},
   "outputs": [],
   "source": [
    "import time \n",
    "import re\n",
    "from selenium import webdriver \n",
    "from selenium.webdriver import Chrome \n",
    "from selenium.webdriver.common.by import By \n",
    "import webbrowser\n",
    "import PIL.Image\n",
    "from PIL import ImageTk\n",
    "from tkinter import *\n",
    "import urllib\n",
    "import io\n",
    "from pygame import mixer\n",
    "\n",
    "chrome_options = webdriver.ChromeOptions() \n",
    "chrome_options.page_load_strategy = \"none\"\n",
    "user_agent = 'Mozilla/5.0 (X11; Linux x86_64) AppleWebKit/537.36 (KHTML, like Gecko) Chrome/60.0.3112.50 Safari/537.36'\n",
    "chrome_options.add_argument(f'user-agent={user_agent}')\n",
    "chrome_options.add_argument('--no-sandbox')\n",
    "chrome_options.add_argument('--window-size=1920,1080')\n",
    "chrome_options.add_argument('--headless')\n",
    "chrome_options.add_argument('--disable-gpu')\n",
    "chrome_options.add_argument('--allow-running-insecure-content')\n",
    "driver = webdriver.Chrome(options=chrome_options)\n",
    "driver.implicitly_wait(5)\n",
    "\n",
    "url = \"http://www.fromjapan.co.jp/japan/en/mercari/search/yohji/-/?sort_order=new\"\n",
    "\n",
    "root = Toplevel()\n",
    "root.title(\"app\")\n",
    "root.geometry('250x250')\n",
    "root.attributes('-topmost', True)\n",
    "\n",
    "image_button = Button(root)\n",
    "image_label = Label(root)\n",
    "price_label = Label(root, text=\"temp\")\n",
    "price_label.place(x=0,y=0)\n",
    "image_button.place(x=0,y=0)\n",
    "\n",
    "mixer.init()\n",
    "notif_sound = mixer.Sound('notification.mp3')\n",
    "\n",
    "prev_prices = ['','','','','']\n",
    "\n",
    "def draw(img_url, price, link):\n",
    "    page=urllib.request.Request(img_url,headers={'User-Agent': 'Mozilla/5.0'}) \n",
    "    raw_data=urllib.request.urlopen(page).read()\n",
    "    image = ImageTk.PhotoImage(PIL.Image.open(io.BytesIO(raw_data)))\n",
    "    image_button.config(text=\"temp\", image=image, command=lambda: webbrowser.open(link))\n",
    "    image_button.image = image\n",
    "    price_label.config(text=price)\n",
    "    notif_sound.play()\n",
    "    \n",
    "\n",
    "def refresh():\n",
    "    driver.get(url)\n",
    "    shop_items_xpath = \"//div[@class='shop-item flex lg:block lg:w-1/4 mb-6 lg:px-3 justify-center w-full']\"\n",
    "    shop_items = driver.find_elements(By.XPATH, shop_items_xpath)\n",
    "\n",
    "    item = shop_items[0]\n",
    "    # print(item.get_attribute('outerHTML'))\n",
    "    img = item.find_element(By.TAG_NAME, \"img\").get_attribute('src')\n",
    "    price_xpath = \"//span[@class='w-full text-black truncate text-xs text-grey mb-2']\"\n",
    "    price = item.find_element(By.XPATH, price_xpath).get_attribute('innerHTML')\n",
    "    if price not in prev_prices:\n",
    "        prev_prices.append(price)\n",
    "        prev_prices.pop(0)\n",
    "        item_link_xpath = \"//a[@class='h-full flex']\"\n",
    "        item_link = item.find_element(By.XPATH, item_link_xpath).get_attribute('href')\n",
    "        draw(img_url=img, price=price, link=item_link)\n",
    "\n",
    "    root.after(5000, refresh)\n",
    "\n",
    "refresh()\n",
    "root.mainloop()\n",
    "print(\"done\")"
   ]
  }
 ],
 "metadata": {
  "kernelspec": {
   "display_name": "base",
   "language": "python",
   "name": "python3"
  },
  "language_info": {
   "codemirror_mode": {
    "name": "ipython",
    "version": 3
   },
   "file_extension": ".py",
   "mimetype": "text/x-python",
   "name": "python",
   "nbconvert_exporter": "python",
   "pygments_lexer": "ipython3",
   "version": "3.9.13"
  }
 },
 "nbformat": 4,
 "nbformat_minor": 2
}
